{
 "cells": [
  {
   "cell_type": "code",
   "execution_count": 3,
   "id": "bbc9c971",
   "metadata": {},
   "outputs": [],
   "source": [
    "from typing import Annotated, List\n",
    "from typing_extensions import TypedDict\n",
    "from langgraph.graph import StateGraph, START, END\n",
    "from langgraph.graph.message import add_messages"
   ]
  },
  {
   "cell_type": "code",
   "execution_count": 4,
   "id": "6ea4b1dd",
   "metadata": {},
   "outputs": [],
   "source": [
    "class State(TypedDict):\n",
    "    messages:Annotated[List, \"List of messages in the conversation\"]\n",
    "    # messages: List[Dict[str, Any]]\n",
    "    # user_input: str\n",
    "    # response: str\n",
    "\n",
    "graph_builder = StateGraph(State)"
   ]
  },
  {
   "cell_type": "code",
   "execution_count": 5,
   "id": "9f0377b2",
   "metadata": {},
   "outputs": [
    {
     "data": {
      "text/plain": [
       "<langgraph.graph.state.StateGraph at 0x11477a040>"
      ]
     },
     "execution_count": 5,
     "metadata": {},
     "output_type": "execute_result"
    }
   ],
   "source": [
    "graph_builder"
   ]
  },
  {
   "cell_type": "code",
   "execution_count": 6,
   "id": "d448e3de",
   "metadata": {},
   "outputs": [
    {
     "data": {
      "text/plain": [
       "True"
      ]
     },
     "execution_count": 6,
     "metadata": {},
     "output_type": "execute_result"
    }
   ],
   "source": [
    "import os\n",
    "from dotenv import load_dotenv\n",
    "load_dotenv()"
   ]
  },
  {
   "cell_type": "code",
   "execution_count": 7,
   "id": "26679370",
   "metadata": {},
   "outputs": [
    {
     "data": {
      "text/plain": [
       "ChatGroq(client=<groq.resources.chat.completions.Completions object at 0x115a21880>, async_client=<groq.resources.chat.completions.AsyncCompletions object at 0x115a48e80>, model_name='meta-llama/llama-4-scout-17b-16e-instruct', temperature=1e-08, model_kwargs={}, groq_api_key=SecretStr('**********'))"
      ]
     },
     "execution_count": 7,
     "metadata": {},
     "output_type": "execute_result"
    }
   ],
   "source": [
    "from langchain_groq import ChatGroq\n",
    "from langchain.chat_models import init_chat_model\n",
    "\n",
    "llm = ChatGroq(model=\"meta-llama/llama-4-scout-17b-16e-instruct\", temperature=0.0)\n",
    "llm"
   ]
  },
  {
   "cell_type": "code",
   "execution_count": 8,
   "id": "6a9d1ca7",
   "metadata": {},
   "outputs": [],
   "source": [
    "def chatbot(state: State) -> State:\n",
    "    return {\"messages\":[llm.invoke(state[\"messages\"])]}\n",
    "    # user_input = state.get(\"user_input\", \"\")\n",
    "    # if not user_input:\n",
    "    #     return state\n",
    "\n",
    "    # messages = state.get(\"messages\", [])\n",
    "    # messages.append({\"role\": \"user\", \"content\": user_input})\n",
    "\n",
    "    # response = llm(messages)\n",
    "    # messages.append({\"role\": \"assistant\", \"content\": response.content})\n",
    "\n",
    "    # state[\"messages\"] = messages\n",
    "    # state[\"response\"] = response.content\n",
    "    # return state"
   ]
  },
  {
   "cell_type": "code",
   "execution_count": 9,
   "id": "65f4dac5",
   "metadata": {},
   "outputs": [
    {
     "data": {
      "image/png": "[encoded data removed]",
      "text/plain": [
       "<langgraph.graph.state.CompiledStateGraph object at 0x115b9cbe0>"
      ]
     },
     "execution_count": 9,
     "metadata": {},
     "output_type": "execute_result"
    }
   ],
   "source": [
    "# Adding Nodes\n",
    "graph_builder.add_node(\"llm_chat\", chatbot)\n",
    "\n",
    "## Adding Edges\n",
    "graph_builder.add_edge(START, \"llm_chat\")\n",
    "graph_builder.add_edge(\"llm_chat\", END)\n",
    "\n",
    "## compile the graph\n",
    "graph_builder.compile()"
   ]
  },
  {
   "cell_type": "code",
   "execution_count": null,
   "id": "eb729d98",
   "metadata": {},
   "outputs": [],
   "source": []
  }
 ],
 "metadata": {
  "kernelspec": {
   "display_name": "Python 3",
   "language": "python",
   "name": "python3"
  },
  "language_info": {
   "codemirror_mode": {
    "name": "ipython",
    "version": 3
   },
   "file_extension": ".py",
   "mimetype": "text/x-python",
   "name": "python",
   "nbconvert_exporter": "python",
   "pygments_lexer": "ipython3",
   "version": "3.9.6"
  }
 },
 "nbformat": 4,
 "nbformat_minor": 5
}
