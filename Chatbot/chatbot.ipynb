{
 "cells": [
  {
   "cell_type": "code",
   "execution_count": 1,
   "id": "bbc9c971",
   "metadata": {},
   "outputs": [
    {
     "name": "stderr",
     "output_type": "stream",
     "text": [
      "/Users/shauryamacbook/Library/Python/3.9/lib/python/site-packages/urllib3/__init__.py:35: NotOpenSSLWarning: urllib3 v2 only supports OpenSSL 1.1.1+, currently the 'ssl' module is compiled with 'LibreSSL 2.8.3'. See: https://github.com/urllib3/urllib3/issues/3020\n",
      "  warnings.warn(\n"
     ]
    }
   ],
   "source": [
    "from typing import Annotated, List\n",
    "from typing_extensions import TypedDict\n",
    "from langgraph.graph import StateGraph, START, END\n",
    "from langgraph.graph.message import add_messages"
   ]
  },
  {
   "cell_type": "code",
   "execution_count": 2,
   "id": "6ea4b1dd",
   "metadata": {},
   "outputs": [],
   "source": [
    "class State(TypedDict):\n",
    "    messages:Annotated[List, \"List of messages in the conversation\"]\n",
    "    # messages: List[Dict[str, Any]]\n",
    "    # user_input: str\n",
    "    # response: str\n",
    "\n",
    "graph_builder = StateGraph(State)"
   ]
  },
  {
   "cell_type": "code",
   "execution_count": 3,
   "id": "9f0377b2",
   "metadata": {},
   "outputs": [
    {
     "data": {
      "text/plain": [
       "<langgraph.graph.state.StateGraph at 0x105260d00>"
      ]
     },
     "execution_count": 3,
     "metadata": {},
     "output_type": "execute_result"
    }
   ],
   "source": [
    "graph_builder"
   ]
  },
  {
   "cell_type": "code",
   "execution_count": 4,
   "id": "d448e3de",
   "metadata": {},
   "outputs": [
    {
     "data": {
      "text/plain": [
       "True"
      ]
     },
     "execution_count": 4,
     "metadata": {},
     "output_type": "execute_result"
    }
   ],
   "source": [
    "import os\n",
    "from dotenv import load_dotenv\n",
    "load_dotenv()"
   ]
  },
  {
   "cell_type": "code",
   "execution_count": 5,
   "id": "26679370",
   "metadata": {},
   "outputs": [
    {
     "data": {
      "text/plain": [
       "ChatGroq(client=<groq.resources.chat.completions.Completions object at 0x1281835e0>, async_client=<groq.resources.chat.completions.AsyncCompletions object at 0x1281a7be0>, model_name='meta-llama/llama-4-scout-17b-16e-instruct', temperature=1e-08, model_kwargs={}, groq_api_key=SecretStr('**********'))"
      ]
     },
     "execution_count": 5,
     "metadata": {},
     "output_type": "execute_result"
    }
   ],
   "source": [
    "from langchain_groq import ChatGroq\n",
    "from langchain.chat_models import init_chat_model\n",
    "\n",
    "llm = ChatGroq(model=\"meta-llama/llama-4-scout-17b-16e-instruct\", temperature=0.0)\n",
    "# llm = init_chat_model(\"groq:meta-llama/llama-4-scout-17b-16e-instruct\", temperature=0.0)\n",
    "llm"
   ]
  },
  {
   "cell_type": "code",
   "execution_count": 6,
   "id": "6a9d1ca7",
   "metadata": {},
   "outputs": [],
   "source": [
    "# Node Functionality\n",
    "def chatbot(state: State) -> State:\n",
    "    return {\"messages\":[llm.invoke(state[\"messages\"])]}"
   ]
  },
  {
   "cell_type": "code",
   "execution_count": 7,
   "id": "65f4dac5",
   "metadata": {},
   "outputs": [
    {
     "data": {
      "image/png": "[encoded data removed]",
      "text/plain": [
       "<langgraph.graph.state.CompiledStateGraph object at 0x1281a7bb0>"
      ]
     },
     "execution_count": 7,
     "metadata": {},
     "output_type": "execute_result"
    }
   ],
   "source": [
    "# Adding Nodes\n",
    "graph_builder.add_node(\"llm_chat\", chatbot)\n",
    "\n",
    "## Adding Edges\n",
    "graph_builder.add_edge(START, \"llm_chat\")\n",
    "graph_builder.add_edge(\"llm_chat\", END)\n",
    "\n",
    "## compile the graph\n",
    "graph = graph_builder.compile()\n",
    "graph_builder.compile()"
   ]
  },
  {
   "cell_type": "code",
   "execution_count": 8,
   "id": "eb729d98",
   "metadata": {},
   "outputs": [],
   "source": [
    "# from IPython.display import display, Image, Markdown\n",
    "\n",
    "# try:\n",
    "#     display(Image(graph.get_graph().draw_mermaid_png()))\n",
    "# except Exception:\n",
    "#     None"
   ]
  },
  {
   "cell_type": "code",
   "execution_count": 9,
   "id": "b162199c",
   "metadata": {},
   "outputs": [],
   "source": [
    "response = graph.invoke({\"messages\": \"Hi, I am Shaurya\"})  # Example invocation with an empty message list"
   ]
  },
  {
   "cell_type": "code",
   "execution_count": 10,
   "id": "e0ff88d4",
   "metadata": {},
   "outputs": [
    {
     "data": {
      "text/plain": [
       "\"Hi Shaurya! It's nice to meet you. Is there something I can help you with or would you like to chat?\""
      ]
     },
     "execution_count": 10,
     "metadata": {},
     "output_type": "execute_result"
    }
   ],
   "source": [
    "response[\"messages\"][-1].content"
   ]
  },
  {
   "cell_type": "code",
   "execution_count": 11,
   "id": "4a65c3f4",
   "metadata": {},
   "outputs": [
    {
     "name": "stdout",
     "output_type": "stream",
     "text": [
      "I'm an AI assistant designed by Meta. I'm here to answer your questions, share interesting ideas and maybe even surprise you with a fresh perspective. What's on your mind?\n"
     ]
    }
   ],
   "source": [
    "for event in graph.stream({\"messages\": \"Hello, who are you?\"}):\n",
    "    for value in event.values():\n",
    "        print(value[\"messages\"][-1].content)\n"
   ]
  },
  {
   "cell_type": "code",
   "execution_count": 12,
   "id": "a24ea63d",
   "metadata": {},
   "outputs": [
    {
     "data": {
      "text/plain": [
       "{'query': 'What is the capital of India?',\n",
       " 'follow_up_questions': None,\n",
       " 'answer': None,\n",
       " 'images': [],\n",
       " 'results': [{'url': 'https://www.usatoday.com/story/news/world/2023/05/24/what-is-the-capital-of-india/70195720007/',\n",
       "   'title': 'What is the capital of India? States and union territories ...',\n",
       "   'content': 'The capital of India is New Delhi, located in the north-central part of the country to the west of the Yamuna River.',\n",
       "   'score': 0.9302622,\n",
       "   'raw_content': None},\n",
       "  {'url': 'https://www.doubtnut.com/qna/649225313',\n",
       "   'title': 'What is the capital of India?',\n",
       "   'content': '# What is the capital of India? ## Delhi is the capital of India. * WHICH IS THE NATIONAL CAPITAL OF INDIA * The financial capital of India is called- * भारत की राजधानी कहाँ है? * What was the capital of the French colony in India? * When was Delhi declared as the capital of India? * भारत में फ्रांसीसी उपनिवेश की राजधानी क्या थी? * भारत में फ्रांसीसी उपनिवेश की राजधानी क्या थी? 1. What is the capital of India? 2. Then main source of foregin capital in India is : 6. भारत में मरुस्थल की राजधानी किसे कहते 8. Translate into English : भारत की राजधानी दिल्ली है। 9. Mumbai\\xa0is the financial capital of India.',\n",
       "   'score': 0.9065293,\n",
       "   'raw_content': None}],\n",
       " 'response_time': 0.89,\n",
       " 'request_id': '3ebcb53d-10a9-405a-bc6f-3ddc7aa548ed'}"
      ]
     },
     "execution_count": 12,
     "metadata": {},
     "output_type": "execute_result"
    }
   ],
   "source": [
    "from langchain_tavily import TavilySearch\n",
    "\n",
    "tool = TavilySearch(max_results=2)\n",
    "tool.invoke(\"What is the capital of India?\")"
   ]
  },
  {
   "cell_type": "markdown",
   "id": "f1925da0",
   "metadata": {},
   "source": [
    "# Custom Tool"
   ]
  },
  {
   "cell_type": "code",
   "execution_count": 13,
   "id": "aa9e39d3",
   "metadata": {},
   "outputs": [],
   "source": [
    "def multiply(a:int, b:int) -> int:\n",
    "    \"\"\"Multiply a and b\n",
    "\n",
    "    Args:\n",
    "        a (int): first int\n",
    "        b (int): second int\n",
    "\n",
    "    Returns:\n",
    "        int: output int\n",
    "    \"\"\""
   ]
  },
  {
   "cell_type": "code",
   "execution_count": 14,
   "id": "d18e5ee5",
   "metadata": {},
   "outputs": [],
   "source": [
    "tools = [tool, multiply]"
   ]
  },
  {
   "cell_type": "code",
   "execution_count": 15,
   "id": "50e705fc",
   "metadata": {},
   "outputs": [],
   "source": [
    "llm_with_tools = llm.bind_tools(tools)"
   ]
  },
  {
   "cell_type": "code",
   "execution_count": 16,
   "id": "12b4ed1b",
   "metadata": {},
   "outputs": [
    {
     "data": {
      "text/plain": [
       "RunnableBinding(bound=ChatGroq(client=<groq.resources.chat.completions.Completions object at 0x1281835e0>, async_client=<groq.resources.chat.completions.AsyncCompletions object at 0x1281a7be0>, model_name='meta-llama/llama-4-scout-17b-16e-instruct', temperature=1e-08, model_kwargs={}, groq_api_key=SecretStr('**********')), kwargs={'tools': [{'type': 'function', 'function': {'name': 'tavily_search', 'description': 'A search engine optimized for comprehensive, accurate, and trusted results. Useful for when you need to answer questions about current events. It not only retrieves URLs and snippets, but offers advanced search depths, domain management, time range filters, and image search, this tool delivers real-time, accurate, and citation-backed results.Input should be a search query.', 'parameters': {'properties': {'query': {'description': 'Search query to look up', 'type': 'string'}, 'include_domains': {'anyOf': [{'items': {'type': 'string'}, 'type': 'array'}, {'type': 'null'}], 'default': [], 'description': 'A list of domains to restrict search results to.\\n\\n        Use this parameter when:\\n        1. The user explicitly requests information from specific websites (e.g., \"Find climate data from nasa.gov\")\\n        2. The user mentions an organization or company without specifying the domain (e.g., \"Find information about iPhones from Apple\")\\n\\n        In both cases, you should determine the appropriate domains (e.g., [\"nasa.gov\"] or [\"apple.com\"]) and set this parameter.\\n\\n        Results will ONLY come from the specified domains - no other sources will be included.\\n        Default is None (no domain restriction).\\n        '}, 'exclude_domains': {'anyOf': [{'items': {'type': 'string'}, 'type': 'array'}, {'type': 'null'}], 'default': [], 'description': 'A list of domains to exclude from search results.\\n\\n        Use this parameter when:\\n        1. The user explicitly requests to avoid certain websites (e.g., \"Find information about climate change but not from twitter.com\")\\n        2. The user mentions not wanting results from specific organizations without naming the domain (e.g., \"Find phone reviews but nothing from Apple\")\\n\\n        In both cases, you should determine the appropriate domains to exclude (e.g., [\"twitter.com\"] or [\"apple.com\"]) and set this parameter.\\n\\n        Results will filter out all content from the specified domains.\\n        Default is None (no domain exclusion).\\n        '}, 'search_depth': {'anyOf': [{'enum': ['basic', 'advanced'], 'type': 'string'}, {'type': 'null'}], 'default': 'basic', 'description': 'Controls search thoroughness and result comprehensiveness.\\n    \\n        Use \"basic\" for simple queries requiring quick, straightforward answers.\\n        \\n        Use \"advanced\" (default) for complex queries, specialized topics, \\n        rare information, or when in-depth analysis is needed.\\n        '}, 'include_images': {'anyOf': [{'type': 'boolean'}, {'type': 'null'}], 'default': False, 'description': 'Determines if the search returns relevant images along with text results.\\n   \\n        Set to True when the user explicitly requests visuals or when images would \\n        significantly enhance understanding (e.g., \"Show me what black holes look like,\" \\n        \"Find pictures of Renaissance art\").\\n        \\n        Leave as False (default) for most informational queries where text is sufficient.\\n        '}, 'time_range': {'anyOf': [{'enum': ['day', 'week', 'month', 'year'], 'type': 'string'}, {'type': 'null'}], 'default': None, 'description': 'Limits results to content published within a specific timeframe.\\n        \\n        ONLY set this when the user explicitly mentions a time period \\n        (e.g., \"latest AI news,\" \"articles from last week\").\\n        \\n        For less popular or niche topics, use broader time ranges \\n        (\"month\" or \"year\") to ensure sufficient relevant results.\\n   \\n        Options: \"day\" (24h), \"week\" (7d), \"month\" (30d), \"year\" (365d).\\n        \\n        Default is None.\\n        '}, 'topic': {'anyOf': [{'enum': ['general', 'news', 'finance'], 'type': 'string'}, {'type': 'null'}], 'default': 'general', 'description': 'Specifies search category for optimized results.\\n   \\n        Use \"general\" (default) for most queries, INCLUDING those with terms like \\n        \"latest,\" \"newest,\" or \"recent\" when referring to general information.\\n\\n        Use \"finance\" for markets, investments, economic data, or financial news.\\n\\n        Use \"news\" ONLY for politics, sports, or major current events covered by \\n        mainstream media - NOT simply because a query asks for \"new\" information.\\n        '}, 'include_favicon': {'anyOf': [{'type': 'boolean'}, {'type': 'null'}], 'default': False, 'description': \"Determines whether to include favicon URLs for each search result.\\n        \\n        When enabled, each search result will include the website's favicon URL,\\n        which can be useful for:\\n        - Building rich UI interfaces with visual website indicators\\n        - Providing visual cues about the source's credibility or brand\\n        - Creating bookmark-like displays with recognizable site icons\\n        \\n        Set to True when creating user interfaces that benefit from visual branding\\n        or when favicon information enhances the user experience.\\n        \\n        Default is False to minimize response size and API usage.\\n        \"}, 'start_date': {'anyOf': [{'type': 'string'}, {'type': 'null'}], 'default': None, 'description': 'Filters search results to include only content published on or after this date.\\n        \\n        Use this parameter when you need to:\\n        - Find recent developments or updates on a topic\\n        - Exclude outdated information from search results\\n        - Focus on content within a specific timeframe\\n        - Combine with end_date to create a custom date range\\n        \\n        Format must be YYYY-MM-DD (e.g., \"2024-01-15\" for January 15, 2024).\\n        \\n        Examples:\\n        - \"2024-01-01\" - Results from January 1, 2024 onwards\\n        - \"2023-12-25\" - Results from December 25, 2023 onwards\\n        \\n        When combined with end_date, creates a precise date range filter.\\n        \\n        Default is None (no start date restriction).\\n        '}, 'end_date': {'anyOf': [{'type': 'string'}, {'type': 'null'}], 'default': None, 'description': 'Filters search results to include only content published on or before this date.\\n        \\n        Use this parameter when you need to:\\n        - Exclude content published after a certain date\\n        - Study historical information or past events\\n        - Research how topics were covered during specific time periods\\n        - Combine with start_date to create a custom date range\\n        \\n        Format must be YYYY-MM-DD (e.g., \"2024-03-31\" for March 31, 2024).\\n        \\n        Examples:\\n        - \"2024-03-31\" - Results up to and including March 31, 2024\\n        - \"2023-12-31\" - Results up to and including December 31, 2023\\n        \\n        When combined with start_date, creates a precise date range filter.\\n        For example: start_date=\"2024-01-01\", end_date=\"2024-03-31\" \\n        returns results from Q1 2024 only.\\n        \\n        Default is None (no end date restriction).\\n        '}}, 'required': ['query'], 'type': 'object'}}}, {'type': 'function', 'function': {'name': 'multiply', 'description': 'Multiply a and b', 'parameters': {'properties': {'a': {'description': 'first int', 'type': 'integer'}, 'b': {'description': 'second int', 'type': 'integer'}}, 'required': ['a', 'b'], 'type': 'object'}}}]}, config={}, config_factories=[])"
      ]
     },
     "execution_count": 16,
     "metadata": {},
     "output_type": "execute_result"
    }
   ],
   "source": [
    "llm_with_tools"
   ]
  },
  {
   "cell_type": "code",
   "execution_count": 17,
   "id": "cb2bc156",
   "metadata": {},
   "outputs": [
    {
     "data": {
      "image/png": "[encoded data removed]",
      "text/plain": [
       "<langgraph.graph.state.CompiledStateGraph object at 0x128e3cac0>"
      ]
     },
     "execution_count": 17,
     "metadata": {},
     "output_type": "execute_result"
    }
   ],
   "source": [
    "## New State Graph\n",
    "from langgraph.graph import StateGraph, START, END\n",
    "from langgraph.prebuilt import ToolNode\n",
    "from langgraph.prebuilt import tools_condition\n",
    "\n",
    "## Node definition\n",
    "def tool_calling_llm(state:State):\n",
    "    return {\"messages\":[llm_with_tools.invoke(state['messages'])]}\n",
    "\n",
    "## Graph\n",
    "builder = StateGraph(State)\n",
    "builder.add_node(\"tool_calling_llm\", tool_calling_llm)\n",
    "builder.add_node(\"tools\", ToolNode(tools))\n",
    "\n",
    "## Edges\n",
    "builder.add_edge(START, \"tool_calling_llm\")\n",
    "builder.add_conditional_edges(\"tool_calling_llm\", tools_condition)\n",
    "\n",
    "builder.add_edge(\"tools\", END)\n",
    "\n",
    "## Compile the graph\n",
    "graph = builder.compile()\n",
    "builder.compile()"
   ]
  },
  {
   "cell_type": "code",
   "execution_count": 18,
   "id": "bc3e0e9f",
   "metadata": {},
   "outputs": [
    {
     "name": "stdout",
     "output_type": "stream",
     "text": [
      "=================================\u001b[1m Tool Message \u001b[0m=================================\n",
      "Name: tavily_search\n",
      "\n",
      "{\"query\": \"recent ai news\", \"follow_up_questions\": null, \"answer\": null, \"images\": [], \"results\": [{\"url\": \"https://www.csoonline.com/article/4042627/nists-attempts-to-secure-ai-yields-many-questions-no-answers.html\", \"title\": \"NIST’s attempts to secure AI yield many questions, no answers - csoonline.com\", \"score\": 0.72348577, \"published_date\": \"Wed, 20 Aug 2025 02:52:38 GMT\", \"content\": \"### GitHub package limit put law firm in security bind\\n\\n  May 21, 2025 5 mins\\n news\\n\\n  ### Microsoft OneDrive move may facilitate accidental sensitive file exfiltration\\n\\n  May 9, 2025 8 mins\\n news\\n\\n  ### Microsoft appoints Deputy CISO for Europe to reassure European IT leaders\\n\\n  May 1, 2025 4 mins\\n\\n## Show me more\\n\\nnews\\n\\n### NIST’s attempts to secure AI yield many questions, no answers\\n\\nBy Evan Schuman\\n\\nAug 19, 20259 mins\\n\\nArtificial IntelligenceGenerative AISecurity\\n\\nnews\", \"raw_content\": null}, {\"url\": \"https://gizmodo.com/deepseek-v-3-1-release-aider-score-china-ai-2000645531\", \"title\": \"The AI Battle’s Newest Warrior Strikes a Major Blow to Big Tech - Gizmodo\", \"score\": 0.70263255, \"published_date\": \"Wed, 20 Aug 2025 19:37:30 GMT\", \"content\": \"By\\n  AJ Dellinger\\n Tech NewsArtificial Intelligence\\n\\n  ## $11 Billion in 2 Weeks: AI Bets Mint Money for Masayoshi Son\\n\\n  There's renewed focus on AI hardware, increasing holdings in Nvidia and TSMC in the March quarter despite critics warning of a bubble and oversupply risks.\\n\\n  By\\n  Riley Gutiérrez McDermid\\n\\nLatest news [...] That price point and complexity of service is a direct challenge to bigger, recent frontier systems from OpenAI and Anthropic, both of which are based in the U.S. A face-off between Chinese and American tech systems has been actively happening for years, but to have such a formidable entrant from a much smaller company may ring in a new era of challenges. Alibaba Group Holding Ltd. and Moonshot have also released AI models that challenge American tech. [...] Skip to content\\n\\n# The AI Battle’s Newest Warrior Strikes a Major Blow to Big Tech\\n\\nThe ongoing slugfest between tech players racing to get the most intuitive and powerful AI may have just gotten a brief knockout punch.\\n\\nThe slammer that landed?\\n\\nA new version of DeepSeek’s increasingly impressive V3.1, which has a whopping 685-billion-parameter system and can deliver about $1.01 per complete coding task, compared to a beginning price of $70 for traditional systems.\", \"raw_content\": null}], \"response_time\": 0.87, \"request_id\": \"c90c1f6c-d292-465e-ad0f-64ce005c7bbb\"}\n"
     ]
    }
   ],
   "source": [
    "tool_response = graph.invoke({\"messages\": [\"what is the recent ai news\"]})  # Example invocation with an empty message list\n",
    "# tool_response[\"messages\"][-1].content\n",
    "\n",
    "for m in tool_response[\"messages\"]:\n",
    "    m.pretty_print()"
   ]
  },
  {
   "cell_type": "code",
   "execution_count": 19,
   "id": "058d2fbd",
   "metadata": {},
   "outputs": [
    {
     "data": {
      "image/png": "[encoded data removed]",
      "text/plain": [
       "<langgraph.graph.state.CompiledStateGraph object at 0x128e78ee0>"
      ]
     },
     "execution_count": 19,
     "metadata": {},
     "output_type": "execute_result"
    }
   ],
   "source": [
    "## New State Graph\n",
    "from langgraph.graph import StateGraph, START, END\n",
    "from langgraph.prebuilt import ToolNode\n",
    "from langgraph.prebuilt import tools_condition\n",
    "from langgraph.checkpoint.memory import MemorySaver\n",
    "\n",
    "memory = MemorySaver()\n",
    "\n",
    "## Node definition\n",
    "def tool_calling_llm(state:State):\n",
    "    return {\"messages\":[llm_with_tools.invoke(state['messages'])]}\n",
    "\n",
    "## Graph\n",
    "builder = StateGraph(State)\n",
    "builder.add_node(\"tool_calling_llm\", tool_calling_llm)\n",
    "builder.add_node(\"tools\", ToolNode(tools))\n",
    "\n",
    "## Edges\n",
    "builder.add_edge(START, \"tool_calling_llm\")\n",
    "builder.add_conditional_edges(\"tool_calling_llm\", tools_condition)\n",
    "\n",
    "builder.add_edge(\"tools\", END)\n",
    "\n",
    "## Compile the graph\n",
    "graph = builder.compile(checkpointer=memory)\n",
    "builder.compile()"
   ]
  },
  {
   "cell_type": "code",
   "execution_count": 20,
   "id": "6853c57a",
   "metadata": {},
   "outputs": [
    {
     "name": "stdout",
     "output_type": "stream",
     "text": [
      "=================================\u001b[1m Tool Message \u001b[0m=================================\n",
      "Name: tavily_search\n",
      "\n",
      "{\"query\": \"recent ai news\", \"follow_up_questions\": null, \"answer\": null, \"images\": [], \"results\": [{\"url\": \"https://www.csoonline.com/article/4042627/nists-attempts-to-secure-ai-yields-many-questions-no-answers.html\", \"title\": \"NIST’s attempts to secure AI yield many questions, no answers - csoonline.com\", \"score\": 0.72348577, \"published_date\": \"Wed, 20 Aug 2025 02:52:38 GMT\", \"content\": \"### GitHub package limit put law firm in security bind\\n\\n  May 21, 2025 5 mins\\n news\\n\\n  ### Microsoft OneDrive move may facilitate accidental sensitive file exfiltration\\n\\n  May 9, 2025 8 mins\\n news\\n\\n  ### Microsoft appoints Deputy CISO for Europe to reassure European IT leaders\\n\\n  May 1, 2025 4 mins\\n\\n## Show me more\\n\\nnews\\n\\n### NIST’s attempts to secure AI yield many questions, no answers\\n\\nBy Evan Schuman\\n\\nAug 19, 20259 mins\\n\\nArtificial IntelligenceGenerative AISecurity\\n\\nnews\", \"raw_content\": null}, {\"url\": \"https://gizmodo.com/deepseek-v-3-1-release-aider-score-china-ai-2000645531\", \"title\": \"The AI Battle’s Newest Warrior Strikes a Major Blow to Big Tech - Gizmodo\", \"score\": 0.70263255, \"published_date\": \"Wed, 20 Aug 2025 19:37:30 GMT\", \"content\": \"By\\n  AJ Dellinger\\n Tech NewsArtificial Intelligence\\n\\n  ## $11 Billion in 2 Weeks: AI Bets Mint Money for Masayoshi Son\\n\\n  There's renewed focus on AI hardware, increasing holdings in Nvidia and TSMC in the March quarter despite critics warning of a bubble and oversupply risks.\\n\\n  By\\n  Riley Gutiérrez McDermid\\n\\nLatest news [...] That price point and complexity of service is a direct challenge to bigger, recent frontier systems from OpenAI and Anthropic, both of which are based in the U.S. A face-off between Chinese and American tech systems has been actively happening for years, but to have such a formidable entrant from a much smaller company may ring in a new era of challenges. Alibaba Group Holding Ltd. and Moonshot have also released AI models that challenge American tech. [...] Skip to content\\n\\n# The AI Battle’s Newest Warrior Strikes a Major Blow to Big Tech\\n\\nThe ongoing slugfest between tech players racing to get the most intuitive and powerful AI may have just gotten a brief knockout punch.\\n\\nThe slammer that landed?\\n\\nA new version of DeepSeek’s increasingly impressive V3.1, which has a whopping 685-billion-parameter system and can deliver about $1.01 per complete coding task, compared to a beginning price of $70 for traditional systems.\", \"raw_content\": null}], \"response_time\": 1.0, \"request_id\": \"062b682d-beed-4ec3-9eec-bf65e014c82a\"}\n"
     ]
    }
   ],
   "source": [
    "config = {\"configurable\": {\"thread_id\":\"1\"}}  # Example configuration dictionary\n",
    "tool_response = graph.invoke({\"messages\": [\"what is the recent ai news\"]}, config=config)  # Example invocation with an empty message list\n",
    "\n",
    "for m in tool_response[\"messages\"]:\n",
    "    m.pretty_print()"
   ]
  },
  {
   "cell_type": "markdown",
   "id": "33fe4959",
   "metadata": {},
   "source": []
  },
  {
   "cell_type": "code",
   "execution_count": 21,
   "id": "db40fc47",
   "metadata": {},
   "outputs": [
    {
     "name": "stdout",
     "output_type": "stream",
     "text": [
      "{'tool_calling_llm': {'messages': [AIMessage(content='Hello Shaurya! Enjoy the F1 race! Which team or driver are you rooting for?', additional_kwargs={}, response_metadata={'token_usage': {'completion_tokens': 22, 'prompt_tokens': 2124, 'total_tokens': 2146, 'completion_time': 0.051425911, 'prompt_time': 0.059501916, 'queue_time': 0.214200457, 'total_time': 0.110927827}, 'model_name': 'meta-llama/llama-4-scout-17b-16e-instruct', 'system_fingerprint': 'fp_5d3e4e58e1', 'service_tier': 'on_demand', 'finish_reason': 'stop', 'logprobs': None}, id='run--4496bb18-a026-4365-8bb9-16e2c3e99dca-0', usage_metadata={'input_tokens': 2124, 'output_tokens': 22, 'total_tokens': 2146})]}}\n"
     ]
    }
   ],
   "source": [
    "config = {\"configurable\": {\"thread_id\":\"4\"}}\n",
    "\n",
    "for chunk in graph.stream({\"messages\": \"Hi, I am Shaurya! I am watching F1\"}, config, stream_mode=\"updates\"):\n",
    "    print(chunk)"
   ]
  },
  {
   "cell_type": "code",
   "execution_count": 22,
   "id": "4c5f20e4",
   "metadata": {},
   "outputs": [
    {
     "name": "stdout",
     "output_type": "stream",
     "text": [
      "{'messages': 'I Root for lewis'}\n",
      "{'messages': [AIMessage(content=\"I don't have access to information about a specific person named Lewis. Could you provide more context or details about who Lewis is?\", additional_kwargs={}, response_metadata={'token_usage': {'completion_tokens': 26, 'prompt_tokens': 2115, 'total_tokens': 2141, 'completion_time': 0.05971025, 'prompt_time': 0.061881286, 'queue_time': 0.213614248, 'total_time': 0.121591536}, 'model_name': 'meta-llama/llama-4-scout-17b-16e-instruct', 'system_fingerprint': 'fp_79da0e0073', 'service_tier': 'on_demand', 'finish_reason': 'stop', 'logprobs': None}, id='run--8e1f37ce-fd6d-4c1b-9367-99a2e940213c-0', usage_metadata={'input_tokens': 2115, 'output_tokens': 26, 'total_tokens': 2141})]}\n"
     ]
    }
   ],
   "source": [
    "for chunk in graph.stream({\"messages\": \"I Root for lewis\"}, config, stream_mode=\"values\"):\n",
    "    print(chunk)"
   ]
  },
  {
   "cell_type": "code",
   "execution_count": 23,
   "id": "87edd1c4",
   "metadata": {},
   "outputs": [
    {
     "name": "stdout",
     "output_type": "stream",
     "text": [
      "{'messages': 'I hate red bull team'}\n",
      "{'messages': [AIMessage(content=\"I don't have access to information about specific sports teams or their fans. However, I can tell you that Red Bull is a well-known energy drink company that sponsors various sports teams, including a Formula One team. If you're looking for information about the team or want to discuss Formula One, I'd be happy to help with that!\", additional_kwargs={}, response_metadata={'token_usage': {'completion_tokens': 66, 'prompt_tokens': 2116, 'total_tokens': 2182, 'completion_time': 0.147863439, 'prompt_time': 0.065215292, 'queue_time': 0.216583831, 'total_time': 0.213078731}, 'model_name': 'meta-llama/llama-4-scout-17b-16e-instruct', 'system_fingerprint': 'fp_88e13d3851', 'service_tier': 'on_demand', 'finish_reason': 'stop', 'logprobs': None}, id='run--04006e54-ee3d-448f-888a-ebbfef02969c-0', usage_metadata={'input_tokens': 2116, 'output_tokens': 66, 'total_tokens': 2182})]}\n"
     ]
    }
   ],
   "source": [
    "for chunk in graph.stream({\"messages\": \"I hate red bull team\"}, config, stream_mode=\"values\"):\n",
    "    print(chunk)"
   ]
  },
  {
   "cell_type": "code",
   "execution_count": 24,
   "id": "b9dce9a4",
   "metadata": {},
   "outputs": [
    {
     "name": "stdout",
     "output_type": "stream",
     "text": [
      "{'event': 'on_chain_start', 'data': {'input': {'messages': 'Hi, I am Shaurya! I am watching F1'}}, 'name': 'LangGraph', 'tags': [], 'run_id': 'ff193c36-fc37-4423-8fd5-dc95ed370af7', 'metadata': {'thread_id': '5'}, 'parent_ids': []}\n",
      "{'event': 'on_chain_start', 'data': {'input': {'messages': 'Hi, I am Shaurya! I am watching F1'}}, 'name': 'tool_calling_llm', 'tags': ['graph:step:1'], 'run_id': '6ce6cf7d-daac-452f-9d9d-50cda9fba815', 'metadata': {'thread_id': '5', 'langgraph_step': 1, 'langgraph_node': 'tool_calling_llm', 'langgraph_triggers': ('branch:to:tool_calling_llm',), 'langgraph_path': ('__pregel_pull', 'tool_calling_llm'), 'langgraph_checkpoint_ns': 'tool_calling_llm:d73c291a-9dd3-e5c4-373b-3aa05c43c371'}, 'parent_ids': ['ff193c36-fc37-4423-8fd5-dc95ed370af7']}\n",
      "{'event': 'on_chain_start', 'data': {'input': {'messages': [AIMessage(content='Hello Shaurya! Enjoy the F1 race! Which team or driver are you rooting for?', additional_kwargs={}, response_metadata={'token_usage': {'completion_tokens': 22, 'prompt_tokens': 2124, 'total_tokens': 2146, 'completion_time': 0.050568379, 'prompt_time': 0.059169068, 'queue_time': 0.213541995, 'total_time': 0.109737447}, 'model_name': 'meta-llama/llama-4-scout-17b-16e-instruct', 'system_fingerprint': 'fp_79da0e0073', 'service_tier': 'on_demand', 'finish_reason': 'stop', 'logprobs': None}, id='run--4ec239fe-727a-49cd-858d-272f2ffcd7b3-0', usage_metadata={'input_tokens': 2124, 'output_tokens': 22, 'total_tokens': 2146})]}}, 'name': 'tools_condition', 'tags': ['seq:step:3'], 'run_id': '70f3e75a-43ef-4b6b-8fd7-2aebf007dc62', 'metadata': {'thread_id': '5', 'langgraph_step': 1, 'langgraph_node': 'tool_calling_llm', 'langgraph_triggers': ('branch:to:tool_calling_llm',), 'langgraph_path': ('__pregel_pull', 'tool_calling_llm'), 'langgraph_checkpoint_ns': 'tool_calling_llm:d73c291a-9dd3-e5c4-373b-3aa05c43c371'}, 'parent_ids': ['ff193c36-fc37-4423-8fd5-dc95ed370af7', '6ce6cf7d-daac-452f-9d9d-50cda9fba815']}\n",
      "{'event': 'on_chain_end', 'data': {'output': '__end__', 'input': {'messages': [AIMessage(content='Hello Shaurya! Enjoy the F1 race! Which team or driver are you rooting for?', additional_kwargs={}, response_metadata={'token_usage': {'completion_tokens': 22, 'prompt_tokens': 2124, 'total_tokens': 2146, 'completion_time': 0.050568379, 'prompt_time': 0.059169068, 'queue_time': 0.213541995, 'total_time': 0.109737447}, 'model_name': 'meta-llama/llama-4-scout-17b-16e-instruct', 'system_fingerprint': 'fp_79da0e0073', 'service_tier': 'on_demand', 'finish_reason': 'stop', 'logprobs': None}, id='run--4ec239fe-727a-49cd-858d-272f2ffcd7b3-0', usage_metadata={'input_tokens': 2124, 'output_tokens': 22, 'total_tokens': 2146})]}}, 'run_id': '70f3e75a-43ef-4b6b-8fd7-2aebf007dc62', 'name': 'tools_condition', 'tags': ['seq:step:3'], 'metadata': {'thread_id': '5', 'langgraph_step': 1, 'langgraph_node': 'tool_calling_llm', 'langgraph_triggers': ('branch:to:tool_calling_llm',), 'langgraph_path': ('__pregel_pull', 'tool_calling_llm'), 'langgraph_checkpoint_ns': 'tool_calling_llm:d73c291a-9dd3-e5c4-373b-3aa05c43c371'}, 'parent_ids': ['ff193c36-fc37-4423-8fd5-dc95ed370af7', '6ce6cf7d-daac-452f-9d9d-50cda9fba815']}\n",
      "{'event': 'on_chain_stream', 'run_id': '6ce6cf7d-daac-452f-9d9d-50cda9fba815', 'name': 'tool_calling_llm', 'tags': ['graph:step:1'], 'metadata': {'thread_id': '5', 'langgraph_step': 1, 'langgraph_node': 'tool_calling_llm', 'langgraph_triggers': ('branch:to:tool_calling_llm',), 'langgraph_path': ('__pregel_pull', 'tool_calling_llm'), 'langgraph_checkpoint_ns': 'tool_calling_llm:d73c291a-9dd3-e5c4-373b-3aa05c43c371'}, 'data': {'chunk': {'messages': [AIMessage(content='Hello Shaurya! Enjoy the F1 race! Which team or driver are you rooting for?', additional_kwargs={}, response_metadata={'token_usage': {'completion_tokens': 22, 'prompt_tokens': 2124, 'total_tokens': 2146, 'completion_time': 0.050568379, 'prompt_time': 0.059169068, 'queue_time': 0.213541995, 'total_time': 0.109737447}, 'model_name': 'meta-llama/llama-4-scout-17b-16e-instruct', 'system_fingerprint': 'fp_79da0e0073', 'service_tier': 'on_demand', 'finish_reason': 'stop', 'logprobs': None}, id='run--4ec239fe-727a-49cd-858d-272f2ffcd7b3-0', usage_metadata={'input_tokens': 2124, 'output_tokens': 22, 'total_tokens': 2146})]}}, 'parent_ids': ['ff193c36-fc37-4423-8fd5-dc95ed370af7']}\n",
      "{'event': 'on_chain_end', 'data': {'output': {'messages': [AIMessage(content='Hello Shaurya! Enjoy the F1 race! Which team or driver are you rooting for?', additional_kwargs={}, response_metadata={'token_usage': {'completion_tokens': 22, 'prompt_tokens': 2124, 'total_tokens': 2146, 'completion_time': 0.050568379, 'prompt_time': 0.059169068, 'queue_time': 0.213541995, 'total_time': 0.109737447}, 'model_name': 'meta-llama/llama-4-scout-17b-16e-instruct', 'system_fingerprint': 'fp_79da0e0073', 'service_tier': 'on_demand', 'finish_reason': 'stop', 'logprobs': None}, id='run--4ec239fe-727a-49cd-858d-272f2ffcd7b3-0', usage_metadata={'input_tokens': 2124, 'output_tokens': 22, 'total_tokens': 2146})]}, 'input': {'messages': 'Hi, I am Shaurya! I am watching F1'}}, 'run_id': '6ce6cf7d-daac-452f-9d9d-50cda9fba815', 'name': 'tool_calling_llm', 'tags': ['graph:step:1'], 'metadata': {'thread_id': '5', 'langgraph_step': 1, 'langgraph_node': 'tool_calling_llm', 'langgraph_triggers': ('branch:to:tool_calling_llm',), 'langgraph_path': ('__pregel_pull', 'tool_calling_llm'), 'langgraph_checkpoint_ns': 'tool_calling_llm:d73c291a-9dd3-e5c4-373b-3aa05c43c371'}, 'parent_ids': ['ff193c36-fc37-4423-8fd5-dc95ed370af7']}\n",
      "{'event': 'on_chain_stream', 'run_id': 'ff193c36-fc37-4423-8fd5-dc95ed370af7', 'name': 'LangGraph', 'tags': [], 'metadata': {'thread_id': '5'}, 'data': {'chunk': {'tool_calling_llm': {'messages': [AIMessage(content='Hello Shaurya! Enjoy the F1 race! Which team or driver are you rooting for?', additional_kwargs={}, response_metadata={'token_usage': {'completion_tokens': 22, 'prompt_tokens': 2124, 'total_tokens': 2146, 'completion_time': 0.050568379, 'prompt_time': 0.059169068, 'queue_time': 0.213541995, 'total_time': 0.109737447}, 'model_name': 'meta-llama/llama-4-scout-17b-16e-instruct', 'system_fingerprint': 'fp_79da0e0073', 'service_tier': 'on_demand', 'finish_reason': 'stop', 'logprobs': None}, id='run--4ec239fe-727a-49cd-858d-272f2ffcd7b3-0', usage_metadata={'input_tokens': 2124, 'output_tokens': 22, 'total_tokens': 2146})]}}}, 'parent_ids': []}\n",
      "{'event': 'on_chain_end', 'data': {'output': {'messages': [AIMessage(content='Hello Shaurya! Enjoy the F1 race! Which team or driver are you rooting for?', additional_kwargs={}, response_metadata={'token_usage': {'completion_tokens': 22, 'prompt_tokens': 2124, 'total_tokens': 2146, 'completion_time': 0.050568379, 'prompt_time': 0.059169068, 'queue_time': 0.213541995, 'total_time': 0.109737447}, 'model_name': 'meta-llama/llama-4-scout-17b-16e-instruct', 'system_fingerprint': 'fp_79da0e0073', 'service_tier': 'on_demand', 'finish_reason': 'stop', 'logprobs': None}, id='run--4ec239fe-727a-49cd-858d-272f2ffcd7b3-0', usage_metadata={'input_tokens': 2124, 'output_tokens': 22, 'total_tokens': 2146})]}}, 'run_id': 'ff193c36-fc37-4423-8fd5-dc95ed370af7', 'name': 'LangGraph', 'tags': [], 'metadata': {'thread_id': '5'}, 'parent_ids': []}\n"
     ]
    }
   ],
   "source": [
    "config = {\"configurable\": {\"thread_id\":\"5\"}}\n",
    "\n",
    "async for event in graph.astream_events({\"messages\": \"Hi, I am Shaurya! I am watching F1\"}, config, version=\"v2\"):\n",
    "    print(event)"
   ]
  },
  {
   "cell_type": "markdown",
   "id": "979da7c8",
   "metadata": {},
   "source": []
  },
  {
   "cell_type": "code",
   "execution_count": 25,
   "id": "6b78c71c",
   "metadata": {},
   "outputs": [
    {
     "data": {
      "text/plain": [
       "ChatGroq(client=<groq.resources.chat.completions.Completions object at 0x128ebea00>, async_client=<groq.resources.chat.completions.AsyncCompletions object at 0x128d44d90>, model_name='meta-llama/llama-4-scout-17b-16e-instruct', temperature=1e-08, model_kwargs={}, groq_api_key=SecretStr('**********'))"
      ]
     },
     "execution_count": 25,
     "metadata": {},
     "output_type": "execute_result"
    }
   ],
   "source": [
    "import os\n",
    "from langchain.chat_models import init_chat_model\n",
    "from langgraph.types import Command, interrupt\n",
    "from langchain_core.tools import tool\n",
    "\n",
    "llm = init_chat_model(\"groq:meta-llama/llama-4-scout-17b-16e-instruct\", temperature=0.0)\n",
    "llm"
   ]
  },
  {
   "cell_type": "code",
   "execution_count": 26,
   "id": "81ea3dab",
   "metadata": {},
   "outputs": [
    {
     "data": {
      "text/plain": [
       "<langgraph.graph.state.StateGraph at 0x128e7c970>"
      ]
     },
     "execution_count": 26,
     "metadata": {},
     "output_type": "execute_result"
    }
   ],
   "source": [
    "graph = StateGraph(State)\n",
    "\n",
    "# Use the already defined 'tool', 'human_feedback', and 'tools' variables\n",
    "# Use the already defined 'llm_with_tools'\n",
    "\n",
    "def chatbot_with_human_feedback(state: State) -> State:\n",
    "    return {\"messages\":[llm_with_tools.invoke(state[\"messages\"])]}\n",
    "\n",
    "graph.add_node(\"chatbot_with_human_feedback\", chatbot_with_human_feedback)\n",
    "graph.add_node(\"tools\", ToolNode(tools))\n",
    "graph.add_conditional_edges(\"chatbot_with_human_feedback\", tools_condition)\n",
    "graph.add_edge(START, \"chatbot_with_human_feedback\")\n",
    "graph.add_edge(\"tools\", \"chatbot_with_human_feedback\")"
   ]
  },
  {
   "cell_type": "code",
   "execution_count": 27,
   "id": "3526b803",
   "metadata": {},
   "outputs": [
    {
     "data": {
      "image/png": "[encoded data removed]",
      "text/plain": [
       "<langgraph.graph.state.CompiledStateGraph object at 0x128e8a130>"
      ]
     },
     "execution_count": 27,
     "metadata": {},
     "output_type": "execute_result"
    }
   ],
   "source": [
    "graph = graph.compile(checkpointer=memory)\n",
    "graph"
   ]
  },
  {
   "cell_type": "code",
   "execution_count": 30,
   "id": "2b42b8b4",
   "metadata": {},
   "outputs": [
    {
     "name": "stdout",
     "output_type": "stream",
     "text": [
      "<generator object Pregel.stream at 0x1293feac0>\n"
     ]
    },
    {
     "ename": "GraphRecursionError",
     "evalue": "Recursion limit of 50 reached without hitting a stop condition. You can increase the limit by setting the `recursion_limit` config key.\nFor troubleshooting, visit: https://python.langchain.com/docs/troubleshooting/errors/GRAPH_RECURSION_LIMIT",
     "output_type": "error",
     "traceback": [
      "\u001b[0;31m---------------------------------------------------------------------------\u001b[0m",
      "\u001b[0;31mGraphRecursionError\u001b[0m                       Traceback (most recent call last)",
      "Cell \u001b[0;32mIn[30], line 10\u001b[0m\n\u001b[1;32m      7\u001b[0m events \u001b[38;5;241m=\u001b[39m graph\u001b[38;5;241m.\u001b[39mstream({\u001b[38;5;124m\"\u001b[39m\u001b[38;5;124mmessages\u001b[39m\u001b[38;5;124m\"\u001b[39m: user_input}, config, stream_mode\u001b[38;5;241m=\u001b[39m\u001b[38;5;124m\"\u001b[39m\u001b[38;5;124mupdates\u001b[39m\u001b[38;5;124m\"\u001b[39m)\n\u001b[1;32m      8\u001b[0m \u001b[38;5;28mprint\u001b[39m(events)\n\u001b[0;32m---> 10\u001b[0m \u001b[38;5;28;01mfor\u001b[39;00m chunk \u001b[38;5;129;01min\u001b[39;00m events:\n\u001b[1;32m     11\u001b[0m     \u001b[38;5;28;01mif\u001b[39;00m \u001b[38;5;124m\"\u001b[39m\u001b[38;5;124mmessages\u001b[39m\u001b[38;5;124m\"\u001b[39m \u001b[38;5;129;01min\u001b[39;00m chunk:\n\u001b[1;32m     12\u001b[0m         chunk[\u001b[38;5;124m\"\u001b[39m\u001b[38;5;124mmessages\u001b[39m\u001b[38;5;124m\"\u001b[39m][\u001b[38;5;241m-\u001b[39m\u001b[38;5;241m1\u001b[39m]\u001b[38;5;241m.\u001b[39mpretty_print()\n",
      "File \u001b[0;32m~/Library/Python/3.9/lib/python/site-packages/langgraph/pregel/main.py:2675\u001b[0m, in \u001b[0;36mPregel.stream\u001b[0;34m(self, input, config, context, stream_mode, print_mode, output_keys, interrupt_before, interrupt_after, durability, subgraphs, debug, **kwargs)\u001b[0m\n\u001b[1;32m   2666\u001b[0m \u001b[38;5;28;01mif\u001b[39;00m loop\u001b[38;5;241m.\u001b[39mstatus \u001b[38;5;241m==\u001b[39m \u001b[38;5;124m\"\u001b[39m\u001b[38;5;124mout_of_steps\u001b[39m\u001b[38;5;124m\"\u001b[39m:\n\u001b[1;32m   2667\u001b[0m     msg \u001b[38;5;241m=\u001b[39m create_error_message(\n\u001b[1;32m   2668\u001b[0m         message\u001b[38;5;241m=\u001b[39m(\n\u001b[1;32m   2669\u001b[0m             \u001b[38;5;124mf\u001b[39m\u001b[38;5;124m\"\u001b[39m\u001b[38;5;124mRecursion limit of \u001b[39m\u001b[38;5;132;01m{\u001b[39;00mconfig[\u001b[38;5;124m'\u001b[39m\u001b[38;5;124mrecursion_limit\u001b[39m\u001b[38;5;124m'\u001b[39m]\u001b[38;5;132;01m}\u001b[39;00m\u001b[38;5;124m reached \u001b[39m\u001b[38;5;124m\"\u001b[39m\n\u001b[0;32m   (...)\u001b[0m\n\u001b[1;32m   2673\u001b[0m         error_code\u001b[38;5;241m=\u001b[39mErrorCode\u001b[38;5;241m.\u001b[39mGRAPH_RECURSION_LIMIT,\n\u001b[1;32m   2674\u001b[0m     )\n\u001b[0;32m-> 2675\u001b[0m     \u001b[38;5;28;01mraise\u001b[39;00m GraphRecursionError(msg)\n\u001b[1;32m   2676\u001b[0m \u001b[38;5;66;03m# set final channel values as run output\u001b[39;00m\n\u001b[1;32m   2677\u001b[0m run_manager\u001b[38;5;241m.\u001b[39mon_chain_end(loop\u001b[38;5;241m.\u001b[39moutput)\n",
      "\u001b[0;31mGraphRecursionError\u001b[0m: Recursion limit of 50 reached without hitting a stop condition. You can increase the limit by setting the `recursion_limit` config key.\nFor troubleshooting, visit: https://python.langchain.com/docs/troubleshooting/errors/GRAPH_RECURSION_LIMIT"
     ]
    }
   ],
   "source": [
    "user_input = \"Hi, I am looking for human expert on topic 'What is the recent AI news?'\"\n",
    "config = {\n",
    "    \"configurable\": {\"thread_id\": \"6\"},\n",
    "    \"recursion_limit\": 50  # Increase the recursion limit\n",
    "}\n",
    "\n",
    "events = graph.stream({\"messages\": user_input}, config, stream_mode=\"updates\")\n",
    "print(events)"
   ]
  },
  {
   "cell_type": "code",
   "execution_count": null,
   "id": "af8f538c",
   "metadata": {},
   "outputs": [],
   "source": [
    "for chunk in events:\n",
    "    if \"messages\" in chunk:\n",
    "        chunk[\"messages\"][-1].pretty_print()"
   ]
  },
  {
   "cell_type": "code",
   "execution_count": 31,
   "id": "67bc34a9",
   "metadata": {},
   "outputs": [
    {
     "name": "stdout",
     "output_type": "stream",
     "text": [
      "<generator object Pregel.stream at 0x12991ae40>\n"
     ]
    }
   ],
   "source": [
    "human_feedback = (\"Sure, I can help you with that. The recent AI news includes advancements in natural language processing, \"\n",
    "                  \"new AI models being released, and significant investments in AI research by major tech companies.\")\n",
    "\n",
    "human_command = Command(resume = {\"data\": human_feedback})\n",
    "events = graph.stream(human_command, config, stream_mode=\"values\")\n",
    "print(events)"
   ]
  },
  {
   "cell_type": "code",
   "execution_count": 32,
   "id": "f0de83e6",
   "metadata": {},
   "outputs": [
    {
     "name": "stdout",
     "output_type": "stream",
     "text": [
      "=================================\u001b[1m Tool Message \u001b[0m=================================\n",
      "Name: tavily_search\n",
      "\n",
      "{\"query\": \"AI latest news\", \"follow_up_questions\": null, \"answer\": null, \"images\": [], \"results\": [{\"url\": \"https://www.forbes.com/sites/lauraclaytonmcdonnell/2025/08/20/the-ai-tipping-point-is-coming-from-corporate-power-users/\", \"title\": \"The AI Tipping Point Is Coming From Corporate Power Users - Forbes\", \"score\": 0.8367897272109985, \"published_date\": \"Wed, 20 Aug 2025 20:53:26 GMT\", \"content\": \"Some of the most breakthrough real-world use cases for AI right now are coming from the corporate legal, tax and accounting, compliance, global trade, human resources other departments that handle complex, data-heavy information processing workloads. First, there is the current business environment, which I described in a recent article as the ‘age of uncertainty.’ This is an extraordinarily challenging time to be working in the legal, tax, compliance, or global trade function of a large corporation. Those strengths have not been lost on corporate legal and tax teams, and other enabling functions inside large corporations who increasingly see AI as a strategic advantage. The real reason why corporate counsel and tax departments are proving to be such successful AI use cases is that the solutions developed for these functions are transforming complete, end-to-end processes.\", \"raw_content\": null}, {\"url\": \"https://www.aol.com/finance/demand-ai-skills-keeps-growing-214900213.html\", \"title\": \"Demand for AI Skills Keeps Growing - AOL.com\", \"score\": 0.8097501993179321, \"published_date\": \"Sun, 17 Aug 2025 03:14:24 GMT\", \"content\": \"**AI-augmented jobs, like those in construction, education, healthcare, and service industries, are growing rapidly, and they are offering greater opportunities for workers to thrive.** — Getty Images/pixdeluxe For small businesses considering expanding AI, here’s what to know about the growing demand for AI skills in the United States. While there were fewer job postings overall in the U.S. in 2024, the number of AI-related jobs increased, indicating a high demand for these skills, the PwC report suggests. In the U.S., the jobs most exposed to AI include health professionals, executives, business professionals, and information and communications technology professionals. Jobs less exposed to AI include cleaners, food service workers, trades workers, and health associate professionals. Image 3: Parade Image 5: Variety Image 11: INSIDER Image 15: CNN Image 21: Yahoo Sports\", \"raw_content\": null}], \"response_time\": 0.82, \"request_id\": \"e767499a-551d-4c4d-8c12-6a6c55f1036d\"}\n",
      "==================================\u001b[1m Ai Message \u001b[0m==================================\n",
      "Tool Calls:\n",
      "  tavily_search (sn57krt9b)\n",
      " Call ID: sn57krt9b\n",
      "  Args:\n",
      "    query: AI latest news\n",
      "    search_depth: advanced\n",
      "    topic: news\n",
      "=================================\u001b[1m Tool Message \u001b[0m=================================\n",
      "Name: tavily_search\n",
      "\n",
      "{\"query\": \"AI latest news\", \"follow_up_questions\": null, \"answer\": null, \"images\": [], \"results\": [{\"url\": \"https://fortune.com/2025/08/19/shadow-ai-economy-mit-study-genai-divide-llm-chatbots/\", \"title\": \"The 'shadow AI economy' is booming: Workers at 90% of companies say they use chatbots, but most of them are hiding it from IT - Fortune\", \"score\": 0.74541736, \"published_date\": \"Tue, 19 Aug 2025 12:04:18 GMT\", \"content\": \"BY  Jason Ma\\n\\n  August 10, 2025\\n AI\\n\\n  ## OpenAI launches GPT-5, its most powerful AI yet. Will it be enough to stay ahead in today’s ruthless AI race?\\n\\n  BY  Sharon Goldman\\n\\n  August 7, 2025 [...] ## The AI revolution will cut nearly $1 trillion a year out of S&P 500 budgets, Morgan Stanley says—largely from agents and robots doing human jobs\\n\\n  BY  Nick Lichtenberg\\n\\n  August 19, 2025\\n AI\\n\\n  ## Here’s everything in GPT-5 that’s new and different from OpenAI’s previous AI models\\n\\n  BY  Alexandra Sternlicht\\n\\n  August 7, 2025\\n Economy\\n\\n  ## This unprecedented shift in unemployment suggests AI could strand white-collar knowledge workers in a jobless recovery after the next recession [...] A sweeping new report from MIT’s Project NANDA, State of AI in Business 2025, has uncovered a dramatic split in the landscape of enterprise artificial intelligence: While official AI adoption in companies stalls, a robust “shadow AI economy” is flourishing under the radar, powered by employees using personal AI tools for day-to-day work.\", \"raw_content\": null}, {\"url\": \"https://www.csoonline.com/article/4042627/nists-attempts-to-secure-ai-yields-many-questions-no-answers.html\", \"title\": \"NIST’s attempts to secure AI yield many questions, no answers - csoonline.com\", \"score\": 0.6688159, \"published_date\": \"Wed, 20 Aug 2025 02:52:38 GMT\", \"content\": \"### GitHub package limit put law firm in security bind\\n\\n  May 21, 2025 5 mins\\n news\\n\\n  ### Microsoft OneDrive move may facilitate accidental sensitive file exfiltration\\n\\n  May 9, 2025 8 mins\\n news\\n\\n  ### Microsoft appoints Deputy CISO for Europe to reassure European IT leaders\\n\\n  May 1, 2025 4 mins\\n\\n## Show me more\\n\\nnews\\n\\n### NIST’s attempts to secure AI yield many questions, no answers\\n\\nBy Evan Schuman\\n\\nAug 19, 20259 mins\\n\\nArtificial IntelligenceGenerative AISecurity\\n\\nnews\", \"raw_content\": null}], \"response_time\": 1.01, \"request_id\": \"6356383b-fb60-4796-bdc7-006b92a14ebf\"}\n",
      "==================================\u001b[1m Ai Message \u001b[0m==================================\n",
      "Tool Calls:\n",
      "  tavily_search (03xx4pxh3)\n",
      " Call ID: 03xx4pxh3\n",
      "  Args:\n",
      "    query: AI latest news\n",
      "    search_depth: advanced\n",
      "    topic: news\n",
      "=================================\u001b[1m Tool Message \u001b[0m=================================\n",
      "Name: tavily_search\n",
      "\n",
      "{\"query\": \"AI latest news\", \"follow_up_questions\": null, \"answer\": null, \"images\": [], \"results\": [{\"url\": \"https://fortune.com/2025/08/19/shadow-ai-economy-mit-study-genai-divide-llm-chatbots/\", \"title\": \"The 'shadow AI economy' is booming: Workers at 90% of companies say they use chatbots, but most of them are hiding it from IT - Fortune\", \"score\": 0.74541736, \"published_date\": \"Tue, 19 Aug 2025 12:04:18 GMT\", \"content\": \"BY  Jason Ma\\n\\n  August 10, 2025\\n AI\\n\\n  ## OpenAI launches GPT-5, its most powerful AI yet. Will it be enough to stay ahead in today’s ruthless AI race?\\n\\n  BY  Sharon Goldman\\n\\n  August 7, 2025 [...] ## The AI revolution will cut nearly $1 trillion a year out of S&P 500 budgets, Morgan Stanley says—largely from agents and robots doing human jobs\\n\\n  BY  Nick Lichtenberg\\n\\n  August 19, 2025\\n AI\\n\\n  ## Here’s everything in GPT-5 that’s new and different from OpenAI’s previous AI models\\n\\n  BY  Alexandra Sternlicht\\n\\n  August 7, 2025\\n Economy\\n\\n  ## This unprecedented shift in unemployment suggests AI could strand white-collar knowledge workers in a jobless recovery after the next recession [...] A sweeping new report from MIT’s Project NANDA, State of AI in Business 2025, has uncovered a dramatic split in the landscape of enterprise artificial intelligence: While official AI adoption in companies stalls, a robust “shadow AI economy” is flourishing under the radar, powered by employees using personal AI tools for day-to-day work.\", \"raw_content\": null}, {\"url\": \"https://gizmodo.com/the-moment-the-ai-hype-cycle-really-kicked-in-2000645031\", \"title\": \"The Moment the AI Hype Cycle Really Kicked In - Gizmodo\", \"score\": 0.6768127, \"published_date\": \"Tue, 19 Aug 2025 18:25:54 GMT\", \"content\": \"Benjamin Jensen, American University School of International Service, The Conversation\\n Tech NewsArtificial Intelligence\\n\\n  ## Film Schools Are Embracing AI. Should They?\\n\\n  Generative AI has come for America's film students.\\n\\n  By\\n  Lucas Ropek\\n Tech News\\n\\n  ## DARPA Is Taking Its AI Fighter Jet Program to the Next Level\\n\\n  Seems safe.\\n\\n  By\\n  AJ Dellinger\\n\\nLatest news [...] By\\n  Riley Gutiérrez McDermid\\n Tech News\\n\\n  ## Otter.ai Sued for Allegedly Recording Work Calls Without Consent\\n\\n  A California suit claims the app is recording private conversations and using them to train its AI.\\n\\n  By\\n  Bruce Gil\\n Tech NewsArtificial Intelligence\\n\\n  ## AI Is About to Radically Alter Military Command Structures That Date Back to Napoleon\\n\\n  Despite two centuries of evolution, the structure of a modern military staff would be recognizable to Napoleon.\", \"raw_content\": null}], \"response_time\": 1.27, \"request_id\": \"659f5e15-a082-4aa2-956a-375f7e6a6862\"}\n",
      "==================================\u001b[1m Ai Message \u001b[0m==================================\n",
      "Tool Calls:\n",
      "  tavily_search (exd4jhp4c)\n",
      " Call ID: exd4jhp4c\n",
      "  Args:\n",
      "    query: AI latest news\n",
      "    search_depth: advanced\n",
      "    topic: news\n",
      "=================================\u001b[1m Tool Message \u001b[0m=================================\n",
      "Name: tavily_search\n",
      "\n",
      "{\"query\": \"AI latest news\", \"follow_up_questions\": null, \"answer\": null, \"images\": [], \"results\": [{\"url\": \"https://fortune.com/2025/08/19/shadow-ai-economy-mit-study-genai-divide-llm-chatbots/\", \"title\": \"The 'shadow AI economy' is booming: Workers at 90% of companies say they use chatbots, but most of them are hiding it from IT - Fortune\", \"score\": 0.74541736, \"published_date\": \"Tue, 19 Aug 2025 12:04:18 GMT\", \"content\": \"BY  Jason Ma\\n\\n  August 10, 2025\\n AI\\n\\n  ## OpenAI launches GPT-5, its most powerful AI yet. Will it be enough to stay ahead in today’s ruthless AI race?\\n\\n  BY  Sharon Goldman\\n\\n  August 7, 2025 [...] ## The AI revolution will cut nearly $1 trillion a year out of S&P 500 budgets, Morgan Stanley says—largely from agents and robots doing human jobs\\n\\n  BY  Nick Lichtenberg\\n\\n  August 19, 2025\\n AI\\n\\n  ## Here’s everything in GPT-5 that’s new and different from OpenAI’s previous AI models\\n\\n  BY  Alexandra Sternlicht\\n\\n  August 7, 2025\\n Economy\\n\\n  ## This unprecedented shift in unemployment suggests AI could strand white-collar knowledge workers in a jobless recovery after the next recession [...] A sweeping new report from MIT’s Project NANDA, State of AI in Business 2025, has uncovered a dramatic split in the landscape of enterprise artificial intelligence: While official AI adoption in companies stalls, a robust “shadow AI economy” is flourishing under the radar, powered by employees using personal AI tools for day-to-day work.\", \"raw_content\": null}, {\"url\": \"https://gizmodo.com/the-moment-the-ai-hype-cycle-really-kicked-in-2000645031\", \"title\": \"The Moment the AI Hype Cycle Really Kicked In - Gizmodo\", \"score\": 0.6768127, \"published_date\": \"Tue, 19 Aug 2025 18:25:54 GMT\", \"content\": \"Benjamin Jensen, American University School of International Service, The Conversation\\n Tech NewsArtificial Intelligence\\n\\n  ## Film Schools Are Embracing AI. Should They?\\n\\n  Generative AI has come for America's film students.\\n\\n  By\\n  Lucas Ropek\\n Tech News\\n\\n  ## DARPA Is Taking Its AI Fighter Jet Program to the Next Level\\n\\n  Seems safe.\\n\\n  By\\n  AJ Dellinger\\n\\nLatest news [...] By\\n  Riley Gutiérrez McDermid\\n Tech News\\n\\n  ## Otter.ai Sued for Allegedly Recording Work Calls Without Consent\\n\\n  A California suit claims the app is recording private conversations and using them to train its AI.\\n\\n  By\\n  Bruce Gil\\n Tech NewsArtificial Intelligence\\n\\n  ## AI Is About to Radically Alter Military Command Structures That Date Back to Napoleon\\n\\n  Despite two centuries of evolution, the structure of a modern military staff would be recognizable to Napoleon.\", \"raw_content\": null}], \"response_time\": 1.11, \"request_id\": \"02d3cda4-f7f6-4d34-b9d4-31d3aeb96e22\"}\n",
      "==================================\u001b[1m Ai Message \u001b[0m==================================\n",
      "Tool Calls:\n",
      "  tavily_search (hahsc47ab)\n",
      " Call ID: hahsc47ab\n",
      "  Args:\n",
      "    query: AI latest news\n",
      "    search_depth: advanced\n",
      "    topic: news\n",
      "=================================\u001b[1m Tool Message \u001b[0m=================================\n",
      "Name: tavily_search\n",
      "\n",
      "{\"query\": \"AI latest news\", \"follow_up_questions\": null, \"answer\": null, \"images\": [], \"results\": [{\"url\": \"https://fortune.com/2025/08/19/shadow-ai-economy-mit-study-genai-divide-llm-chatbots/\", \"title\": \"The 'shadow AI economy' is booming: Workers at 90% of companies say they use chatbots, but most of them are hiding it from IT - Fortune\", \"score\": 0.74541736, \"published_date\": \"Tue, 19 Aug 2025 12:04:18 GMT\", \"content\": \"BY  Jason Ma\\n\\n  August 10, 2025\\n AI\\n\\n  ## OpenAI launches GPT-5, its most powerful AI yet. Will it be enough to stay ahead in today’s ruthless AI race?\\n\\n  BY  Sharon Goldman\\n\\n  August 7, 2025 [...] ## The AI revolution will cut nearly $1 trillion a year out of S&P 500 budgets, Morgan Stanley says—largely from agents and robots doing human jobs\\n\\n  BY  Nick Lichtenberg\\n\\n  August 19, 2025\\n AI\\n\\n  ## Here’s everything in GPT-5 that’s new and different from OpenAI’s previous AI models\\n\\n  BY  Alexandra Sternlicht\\n\\n  August 7, 2025\\n Economy\\n\\n  ## This unprecedented shift in unemployment suggests AI could strand white-collar knowledge workers in a jobless recovery after the next recession [...] A sweeping new report from MIT’s Project NANDA, State of AI in Business 2025, has uncovered a dramatic split in the landscape of enterprise artificial intelligence: While official AI adoption in companies stalls, a robust “shadow AI economy” is flourishing under the radar, powered by employees using personal AI tools for day-to-day work.\", \"raw_content\": null}, {\"url\": \"https://www.csoonline.com/article/4042627/nists-attempts-to-secure-ai-yields-many-questions-no-answers.html\", \"title\": \"NIST’s attempts to secure AI yield many questions, no answers - csoonline.com\", \"score\": 0.6688159, \"published_date\": \"Wed, 20 Aug 2025 02:52:38 GMT\", \"content\": \"### GitHub package limit put law firm in security bind\\n\\n  May 21, 2025 5 mins\\n news\\n\\n  ### Microsoft OneDrive move may facilitate accidental sensitive file exfiltration\\n\\n  May 9, 2025 8 mins\\n news\\n\\n  ### Microsoft appoints Deputy CISO for Europe to reassure European IT leaders\\n\\n  May 1, 2025 4 mins\\n\\n## Show me more\\n\\nnews\\n\\n### NIST’s attempts to secure AI yield many questions, no answers\\n\\nBy Evan Schuman\\n\\nAug 19, 20259 mins\\n\\nArtificial IntelligenceGenerative AISecurity\\n\\nnews\", \"raw_content\": null}], \"response_time\": 1.57, \"request_id\": \"3f5223e9-c4e0-4687-9a3b-7db83b0cac92\"}\n",
      "==================================\u001b[1m Ai Message \u001b[0m==================================\n",
      "Tool Calls:\n",
      "  tavily_search (eshk3e9vc)\n",
      " Call ID: eshk3e9vc\n",
      "  Args:\n",
      "    query: AI latest news\n",
      "    search_depth: advanced\n",
      "    topic: news\n",
      "=================================\u001b[1m Tool Message \u001b[0m=================================\n",
      "Name: tavily_search\n",
      "\n",
      "{\"query\": \"AI latest news\", \"follow_up_questions\": null, \"answer\": null, \"images\": [], \"results\": [{\"url\": \"https://fortune.com/2025/08/19/shadow-ai-economy-mit-study-genai-divide-llm-chatbots/\", \"title\": \"The 'shadow AI economy' is booming: Workers at 90% of companies say they use chatbots, but most of them are hiding it from IT - Fortune\", \"score\": 0.74541736, \"published_date\": \"Tue, 19 Aug 2025 12:04:18 GMT\", \"content\": \"BY  Jason Ma\\n\\n  August 10, 2025\\n AI\\n\\n  ## OpenAI launches GPT-5, its most powerful AI yet. Will it be enough to stay ahead in today’s ruthless AI race?\\n\\n  BY  Sharon Goldman\\n\\n  August 7, 2025 [...] ## The AI revolution will cut nearly $1 trillion a year out of S&P 500 budgets, Morgan Stanley says—largely from agents and robots doing human jobs\\n\\n  BY  Nick Lichtenberg\\n\\n  August 19, 2025\\n AI\\n\\n  ## Here’s everything in GPT-5 that’s new and different from OpenAI’s previous AI models\\n\\n  BY  Alexandra Sternlicht\\n\\n  August 7, 2025\\n Economy\\n\\n  ## This unprecedented shift in unemployment suggests AI could strand white-collar knowledge workers in a jobless recovery after the next recession [...] A sweeping new report from MIT’s Project NANDA, State of AI in Business 2025, has uncovered a dramatic split in the landscape of enterprise artificial intelligence: While official AI adoption in companies stalls, a robust “shadow AI economy” is flourishing under the radar, powered by employees using personal AI tools for day-to-day work.\", \"raw_content\": null}, {\"url\": \"https://www.csoonline.com/article/4042627/nists-attempts-to-secure-ai-yields-many-questions-no-answers.html\", \"title\": \"NIST’s attempts to secure AI yield many questions, no answers - csoonline.com\", \"score\": 0.6688159, \"published_date\": \"Wed, 20 Aug 2025 02:52:38 GMT\", \"content\": \"### GitHub package limit put law firm in security bind\\n\\n  May 21, 2025 5 mins\\n news\\n\\n  ### Microsoft OneDrive move may facilitate accidental sensitive file exfiltration\\n\\n  May 9, 2025 8 mins\\n news\\n\\n  ### Microsoft appoints Deputy CISO for Europe to reassure European IT leaders\\n\\n  May 1, 2025 4 mins\\n\\n## Show me more\\n\\nnews\\n\\n### NIST’s attempts to secure AI yield many questions, no answers\\n\\nBy Evan Schuman\\n\\nAug 19, 20259 mins\\n\\nArtificial IntelligenceGenerative AISecurity\\n\\nnews\", \"raw_content\": null}], \"response_time\": 1.09, \"request_id\": \"14aa84b2-571c-4f04-8599-3bd5f9edb7a8\"}\n",
      "==================================\u001b[1m Ai Message \u001b[0m==================================\n",
      "Tool Calls:\n",
      "  tavily_search (bzqmvf5q6)\n",
      " Call ID: bzqmvf5q6\n",
      "  Args:\n",
      "    query: AI latest news\n",
      "    search_depth: advanced\n",
      "    topic: news\n",
      "=================================\u001b[1m Tool Message \u001b[0m=================================\n",
      "Name: tavily_search\n",
      "\n",
      "{\"query\": \"AI latest news\", \"follow_up_questions\": null, \"answer\": null, \"images\": [], \"results\": [{\"url\": \"https://www.forbes.com/sites/lauraclaytonmcdonnell/2025/08/20/the-ai-tipping-point-is-coming-from-corporate-power-users/\", \"title\": \"The AI Tipping Point Is Coming From Corporate Power Users - Forbes\", \"score\": 0.8359096050262451, \"published_date\": \"Wed, 20 Aug 2025 20:53:26 GMT\", \"content\": \"Some of the most breakthrough real-world use cases for AI right now are coming from the corporate legal, tax and accounting, compliance, global trade, human resources other departments that handle complex, data-heavy information processing workloads. First, there is the current business environment, which I described in a recent article as the ‘age of uncertainty.’ This is an extraordinarily challenging time to be working in the legal, tax, compliance, or global trade function of a large corporation. Those strengths have not been lost on corporate legal and tax teams, and other enabling functions inside large corporations who increasingly see AI as a strategic advantage. The real reason why corporate counsel and tax departments are proving to be such successful AI use cases is that the solutions developed for these functions are transforming complete, end-to-end processes.\", \"raw_content\": null}, {\"url\": \"https://www.aol.com/finance/demand-ai-skills-keeps-growing-214900213.html\", \"title\": \"Demand for AI Skills Keeps Growing - AOL.com\", \"score\": 0.8159565925598145, \"published_date\": \"Sun, 17 Aug 2025 03:14:24 GMT\", \"content\": \"**AI-augmented jobs, like those in construction, education, healthcare, and service industries, are growing rapidly, and they are offering greater opportunities for workers to thrive.** — Getty Images/pixdeluxe For small businesses considering expanding AI, here’s what to know about the growing demand for AI skills in the United States. While there were fewer job postings overall in the U.S. in 2024, the number of AI-related jobs increased, indicating a high demand for these skills, the PwC report suggests. In the U.S., the jobs most exposed to AI include health professionals, executives, business professionals, and information and communications technology professionals. Jobs less exposed to AI include cleaners, food service workers, trades workers, and health associate professionals. Image 3: Parade Image 5: Variety Image 11: INSIDER Image 15: CNN Image 21: Yahoo Sports\", \"raw_content\": null}], \"response_time\": 0.86, \"request_id\": \"f897c174-f395-483b-9ebc-b94ce81ab2ae\"}\n",
      "==================================\u001b[1m Ai Message \u001b[0m==================================\n",
      "Tool Calls:\n",
      "  tavily_search (yt038b8fv)\n",
      " Call ID: yt038b8fv\n",
      "  Args:\n",
      "    query: AI latest news\n",
      "    search_depth: advanced\n",
      "    topic: news\n",
      "=================================\u001b[1m Tool Message \u001b[0m=================================\n",
      "Name: tavily_search\n",
      "\n",
      "{\"query\": \"AI latest news\", \"follow_up_questions\": null, \"answer\": null, \"images\": [], \"results\": [{\"url\": \"https://fortune.com/2025/08/19/shadow-ai-economy-mit-study-genai-divide-llm-chatbots/\", \"title\": \"The 'shadow AI economy' is booming: Workers at 90% of companies say they use chatbots, but most of them are hiding it from IT - Fortune\", \"score\": 0.74541736, \"published_date\": \"Tue, 19 Aug 2025 12:04:18 GMT\", \"content\": \"BY  Jason Ma\\n\\n  August 10, 2025\\n AI\\n\\n  ## OpenAI launches GPT-5, its most powerful AI yet. Will it be enough to stay ahead in today’s ruthless AI race?\\n\\n  BY  Sharon Goldman\\n\\n  August 7, 2025 [...] ## The AI revolution will cut nearly $1 trillion a year out of S&P 500 budgets, Morgan Stanley says—largely from agents and robots doing human jobs\\n\\n  BY  Nick Lichtenberg\\n\\n  August 19, 2025\\n AI\\n\\n  ## Here’s everything in GPT-5 that’s new and different from OpenAI’s previous AI models\\n\\n  BY  Alexandra Sternlicht\\n\\n  August 7, 2025\\n Economy\\n\\n  ## This unprecedented shift in unemployment suggests AI could strand white-collar knowledge workers in a jobless recovery after the next recession [...] A sweeping new report from MIT’s Project NANDA, State of AI in Business 2025, has uncovered a dramatic split in the landscape of enterprise artificial intelligence: While official AI adoption in companies stalls, a robust “shadow AI economy” is flourishing under the radar, powered by employees using personal AI tools for day-to-day work.\", \"raw_content\": null}, {\"url\": \"https://gizmodo.com/the-moment-the-ai-hype-cycle-really-kicked-in-2000645031\", \"title\": \"The Moment the AI Hype Cycle Really Kicked In - Gizmodo\", \"score\": 0.6768127, \"published_date\": \"Tue, 19 Aug 2025 18:25:54 GMT\", \"content\": \"Benjamin Jensen, American University School of International Service, The Conversation\\n Tech NewsArtificial Intelligence\\n\\n  ## Film Schools Are Embracing AI. Should They?\\n\\n  Generative AI has come for America's film students.\\n\\n  By\\n  Lucas Ropek\\n Tech News\\n\\n  ## DARPA Is Taking Its AI Fighter Jet Program to the Next Level\\n\\n  Seems safe.\\n\\n  By\\n  AJ Dellinger\\n\\nLatest news [...] By\\n  Riley Gutiérrez McDermid\\n Tech News\\n\\n  ## Otter.ai Sued for Allegedly Recording Work Calls Without Consent\\n\\n  A California suit claims the app is recording private conversations and using them to train its AI.\\n\\n  By\\n  Bruce Gil\\n Tech NewsArtificial Intelligence\\n\\n  ## AI Is About to Radically Alter Military Command Structures That Date Back to Napoleon\\n\\n  Despite two centuries of evolution, the structure of a modern military staff would be recognizable to Napoleon.\", \"raw_content\": null}], \"response_time\": 1.09, \"request_id\": \"bb53e050-0e19-4826-838e-a60a9d2cd78a\"}\n",
      "==================================\u001b[1m Ai Message \u001b[0m==================================\n",
      "Tool Calls:\n",
      "  tavily_search (d1vyajmek)\n",
      " Call ID: d1vyajmek\n",
      "  Args:\n",
      "    query: AI latest news\n",
      "    search_depth: advanced\n",
      "    topic: news\n",
      "=================================\u001b[1m Tool Message \u001b[0m=================================\n",
      "Name: tavily_search\n",
      "\n",
      "{\"query\": \"AI latest news\", \"follow_up_questions\": null, \"answer\": null, \"images\": [], \"results\": [{\"url\": \"https://fortune.com/2025/08/19/shadow-ai-economy-mit-study-genai-divide-llm-chatbots/\", \"title\": \"The 'shadow AI economy' is booming: Workers at 90% of companies say they use chatbots, but most of them are hiding it from IT - Fortune\", \"score\": 0.804474413394928, \"published_date\": \"Tue, 19 Aug 2025 12:04:18 GMT\", \"content\": \"+ AI A sweeping new report from MIT’s Project NANDA, *State of AI in Business 2025,* has uncovered a dramatic split in the landscape of enterprise artificial intelligence: While official AI adoption in companies stalls, a robust “shadow AI economy” is flourishing under the radar, powered by employees using personal AI tools for day-to-day work. It reveals that while only 40% of companies have purchased official LLM subscriptions, employees in over 90% of companies regularly use personal AI tools for work. According to the report, shadow AI usage creates a feedback loop: As employees become more familiar with personal AI tools that suit their needs, they become less tolerant of static enterprise tools. AI AI * AI * AI * AI\", \"raw_content\": null}, {\"url\": \"https://www.accountingtoday.com/list/ai-agents-in-intuits-quickbooks-and-other-tech-stories-you-may-have-missed\", \"title\": \"AI agents in QB, and other tech stories you may have missed - Accounting Today\", \"score\": 0.8036642074584961, \"published_date\": \"Wed, 20 Aug 2025 13:30:13 GMT\", \"content\": \"Intuit is introducing agentic AI into QuickBooks, managers are making hiring decisions with AI, making Windows 11 faster, and seven other things that happened in technology this past month, and how they'll impact your clients and your firm. Intuit launched a groundbreaking suite of AI agents embedded in its QuickBooks platform to help businesses automate workflows, gain real-time insights, and improve cash flow. The results showed that 60% of U.S. managers use generative AI tools like ChatGPT, Microsoft Copilot, or Google Gemini to make decisions about their direct reports. OpenAI is reportedly developing its own AI-powered office productivity suite, directly challenging Microsoft 365 and Google Workspace. Rather than replicating Microsoft's feature-rich apps or Google's collaboration tools, OpenAI may lean into generative AI to reinvent how documents are created and edited collaboratively.\", \"raw_content\": null}], \"response_time\": 0.89, \"request_id\": \"e7039c4d-2c22-4b26-870f-9a5721055d86\"}\n",
      "==================================\u001b[1m Ai Message \u001b[0m==================================\n",
      "\n",
      "The current news on AI includes the emergence of a \"shadow AI economy\" where employees are using personal AI tools for work despite official AI adoption being stalled in companies. A report from MIT's Project NANDA found that while only 40% of companies have purchased official LLM subscriptions, employees in over 90% of companies regularly use personal AI tools for work. Additionally, Intuit has introduced AI agents in its QuickBooks platform to help businesses automate workflows and gain real-time insights. \n",
      "\n",
      "Moreover, there are developments in AI-powered office productivity suites, with OpenAI reportedly working on a suite that directly challenges Microsoft365 and Google Workspace. \n",
      "\n",
      "Here are the search results in a more detailed format:\n",
      "\n",
      "* The 'shadow AI economy' is booming: Workers at 90% of companies say they use chatbots, but most of them are hiding it from IT - Fortune\n",
      "* AI agents in QB, and other tech stories you may have missed - Accounting Today\n",
      "\n",
      "Would you like to know more about AI?\n"
     ]
    }
   ],
   "source": [
    "for chunk in events:\n",
    "    if \"messages\" in chunk:\n",
    "        chunk[\"messages\"][-1].pretty_print()"
   ]
  },
  {
   "cell_type": "code",
   "execution_count": null,
   "id": "fa796463",
   "metadata": {},
   "outputs": [],
   "source": []
  }
 ],
 "metadata": {
  "kernelspec": {
   "display_name": "Python 3",
   "language": "python",
   "name": "python3"
  },
  "language_info": {
   "codemirror_mode": {
    "name": "ipython",
    "version": 3
   },
   "file_extension": ".py",
   "mimetype": "text/x-python",
   "name": "python",
   "nbconvert_exporter": "python",
   "pygments_lexer": "ipython3",
   "version": "3.9.6"
  }
 },
 "nbformat": 4,
 "nbformat_minor": 5
}
